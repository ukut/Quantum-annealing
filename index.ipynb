{
 "cells": [
  {
   "cell_type": "markdown",
   "metadata": {},
   "source": [
    " "
   ]
  },
  {
   "cell_type": "markdown",
   "metadata": {},
   "source": [
    "<table width = \"100%\">\n",
    "  <tr style=\"background-color:white;\">\n",
    "    <!-- QWorld Logo -->\n",
    "    <td style=\"text-align:left; padding:0px; width:200px;\"> \n",
    "        <img src=\"images/QWorld.png\"> </td>\n",
    "    <!-- Padding -->\n",
    "    <td width=\"*\">&nbsp;&nbsp;&nbsp;&nbsp;&emsp;&emsp;&emsp;&nbsp;&nbsp;</td>\n",
    "    <td style=\"padding:0px;width:250px;\"></td>\n",
    "    <!-- Social Media Links -->\n",
    "    <td> <a href=\"https://qworld.net\" target=\"_blank\">\n",
    "        <img align=\"right\" src=\"images/Website.png\" style=\"width:50px;\" > </a></td>\n",
    "    <td> <a href=\"https://discord.gg/akCvr7U87g\" target=\"_blank\">\n",
    "        <img align=\"right\" src=\"images/Discord.png\" style=\"width:50px;\"> </a></td>\n",
    "    <td> <a href=\"https://twitter.com/QWorld19\" target=\"_blank\">\n",
    "        <img align=\"right\" src=\"images/Twitter.png\" width=50 > </a></td>\n",
    "    <td> <a href=\"https://www.youtube.com/qworld19\" target=\"_blank\">\n",
    "        <img align=\"right\" src=\"images/YouTube.png\" width=50 > </a></td>\n",
    "    <td> <a href=\"https://www.facebook.com/qworld19/\" target=\"_blank\">\n",
    "        <img align=\"right\" src=\"images/Facebook.png\" width=50 > </a></td>\n",
    "    <td> <a href=\"https://www.linkedin.com/company/qworld19/\" target=\"_blank\">\n",
    "        <img align=\"right\" src=\"images/LinkedIn.png\" width=50 > </a></td>\n",
    "  </tr> \n",
    " </table>\n",
    " \n",
    "<hr>"
   ]
  },
  {
   "cell_type": "markdown",
   "metadata": {},
   "source": [
    "This project was developed during [QIntern 2021](https://qworld.net/qintern-2021/) organized by [QWorld](https://qworld.net/)."
   ]
  },
  {
   "cell_type": "markdown",
   "metadata": {},
   "source": [
    "**Mentor**: [Özlem Salehi](https://gitlab.com/ozlemsalehi) \n",
    "\n",
    "**Team Members**: \n",
    "[Akash Narayanan](https://gitlab.com/AkashNarayanan) &nbsp;|&nbsp;\n",
    "[Manan Sood](https://gitlab.com/Manan-Sood) &nbsp;|&nbsp;\n",
    "[Paul Joseph Robin](https://gitlab.com/pjr1363) &nbsp;|&nbsp;\n",
    "[Sabah Ud Din Ahmad](https://gitlab.com/sabahuddin.ahmad) &nbsp;|&nbsp;\n",
    "[Sourabh Nutakki](https://gitlab.com/Sourabh499)\n",
    "\n",
    "---"
   ]
  },
  {
   "cell_type": "markdown",
   "metadata": {},
   "source": [
    "<h1 align=\"left\" style=\"color: #fbb32a;\"> Index </h1>"
   ]
  },
  {
   "cell_type": "markdown",
   "metadata": {},
   "source": [
    "<!-- Topic & Sub-Topic: A template-->\n",
    "### Topic 1\n",
    "\n",
    "[Notebook 1](index.ipynb) &nbsp;|&nbsp;\n",
    "[Notebook 2](index.ipynb) &nbsp;|&nbsp;\n",
    "[Notebook 3](index.ipynb) \n",
    "\n",
    "---"
   ]
  },
  {
   "cell_type": "markdown",
   "metadata": {},
   "source": [
    " <h1 align=\"left\" style=\"color: #fbb32a;\"> Credits </h1>"
   ]
  },
  {
   "cell_type": "markdown",
   "metadata": {},
   "source": [
    "*This section lists the authors of the particular chapters.*\n",
    "\n",
    "---"
   ]
  },
  {
   "cell_type": "markdown",
   "metadata": {},
   "source": [
    " <h1 align=\"left\" style=\"color: #fbb32a;\"> References </h1>"
   ]
  },
  {
   "cell_type": "markdown",
   "metadata": {},
   "source": [
    "1. Quantum Bridge Analytics I: A Tutorial on Formulating and Using QUBO Models *(Fred Glover, Gary Kochenberger, Yu Du)* [[arXiv Preprint]](https://arxiv.org/abs/1811.11538)"
   ]
  },
  {
   "cell_type": "markdown",
   "metadata": {},
   "source": [
    " "
   ]
  }
 ],
 "metadata": {
  "kernelspec": {
   "display_name": "Python 3",
   "language": "python",
   "name": "python3"
  },
  "language_info": {
   "codemirror_mode": {
    "name": "ipython",
    "version": 3
   },
   "file_extension": ".py",
   "mimetype": "text/x-python",
   "name": "python",
   "nbconvert_exporter": "python",
   "pygments_lexer": "ipython3",
   "version": "3.8.5"
  },
  "latex_envs": {
   "LaTeX_envs_menu_present": true,
   "autoclose": true,
   "autocomplete": true,
   "bibliofile": "biblio.bib",
   "cite_by": "apalike",
   "current_citInitial": 1,
   "eqLabelWithNumbers": true,
   "eqNumInitial": 1,
   "hotkeys": {
    "equation": "Ctrl-E",
    "itemize": "Ctrl-I"
   },
   "labels_anchors": false,
   "latex_user_defs": false,
   "report_style_numbering": false,
   "user_envs_cfg": false
  },
  "toc": {
   "base_numbering": 1,
   "nav_menu": {},
   "number_sections": true,
   "sideBar": true,
   "skip_h1_title": false,
   "title_cell": "Table of Contents",
   "title_sidebar": "Contents",
   "toc_cell": false,
   "toc_position": {},
   "toc_section_display": true,
   "toc_window_display": false
  }
 },
 "nbformat": 4,
 "nbformat_minor": 4
}
